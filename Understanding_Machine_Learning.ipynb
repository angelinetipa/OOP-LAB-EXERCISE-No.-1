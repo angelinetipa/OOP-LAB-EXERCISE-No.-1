{
  "nbformat": 4,
  "nbformat_minor": 0,
  "metadata": {
    "colab": {
      "provenance": [],
      "authorship_tag": "ABX9TyOEpXm35yipVE6vlsM0dVoY",
      "include_colab_link": true
    },
    "kernelspec": {
      "name": "python3",
      "display_name": "Python 3"
    },
    "language_info": {
      "name": "python"
    }
  },
  "cells": [
    {
      "cell_type": "markdown",
      "metadata": {
        "id": "view-in-github",
        "colab_type": "text"
      },
      "source": [
        "<a href=\"https://colab.research.google.com/github/angelinetipa/OOP-LAB-EXERCISE-No.-1/blob/master/Understanding_Machine_Learning.ipynb\" target=\"_parent\"><img src=\"https://colab.research.google.com/assets/colab-badge.svg\" alt=\"Open In Colab\"/></a>"
      ]
    },
    {
      "cell_type": "markdown",
      "source": [
        "**AI** is a huge set of tools for making computers behave intelligently. It comprises of several sub-fields, including robotics and machine learning.\n",
        "\n",
        "**machine learning** as a set of tools for making inferences and predictions from data.\n",
        "What can it do:\n",
        "- predict future events\n",
        "- infer the causes of events and behaviors\n",
        "- infer patterns\n",
        "\n",
        "**Data science **is about discovering and communicating insights from data.\n",
        "\n",
        "**Machine learning **is often an important tool for data science work, especially for making predictions from data.\n",
        "\n",
        "three types of machine learning\n",
        "1. reinforcement learning, is used for deciding sequential actions, like a robot deciding its path or its next move in a chess game. Its not as common as the others and uses complex mathematics, like game theory. It won't be covered any further.\n",
        "most common types\n",
        "2. supervised and\n",
        "3. unsupervised learning. Their main difference lies in their training data.\n",
        "\n",
        "Supervised learning\n",
        "- training data is \"labeled\"\n",
        "\n",
        "Unsupervised learning\n",
        "- training data only has features\n",
        "- useful for:\n",
        "  - anomaly detection\n",
        "  - clustering - dividing data into groups\n",
        "\n",
        "SUMMARY OF STEPS OF MACHINE LEARNING WORKFLOW\n",
        "1. Extract features\n",
        "  - choosing features and manipulating the dataset\n",
        "2. Split dataset\n",
        "  - train and test dataset\n",
        "3. Train model\n",
        "  - input train dataset into a machine learning model\n",
        "4. Evaluate\n",
        "  - if desired performance isn't reached: tuned the model and repeat Step 3\n",
        "\n"
      ],
      "metadata": {
        "id": "EFqCly2s76NF"
      }
    },
    {
      "cell_type": "markdown",
      "source": [
        "**SUPERVISED LEARNING**\n",
        "two flavors of supervised learning:\n",
        "1. Classfication - assigns a category\n",
        "2. Regression - assigning a continuous variable"
      ],
      "metadata": {
        "id": "S3sI4Bg476Kx"
      }
    },
    {
      "cell_type": "markdown",
      "source": [
        "UNSUPERVISED LEARNING - no target column, more about grouping\n",
        "- no guidance\n",
        "- looks at the whole dataset\n",
        "- tries to detect patterns\n",
        "\n",
        "1. Clustering\n",
        "2. Association\n",
        "3. Anomaly detection - detecting outliers\n",
        "  - Outliers = observations that differ from the rest\n"
      ],
      "metadata": {
        "id": "nNiJIQ1KQqBB"
      }
    },
    {
      "cell_type": "markdown",
      "source": [
        "WHAT IS DEEP LEARNING\n",
        "- uses an algorithm, which are loosely inspired by biologival neural networks in human brains\n",
        "- nodes\n",
        "- requires more data\n",
        "- best when inputs are images or text\n",
        "\n",
        "WHEN TO USE DEEP LEARNING\n",
        "- lots of data\n",
        "- access to processing power\n",
        "- lack of domain knowledge\n",
        "- complex problems\n",
        "  - computer vision\n",
        "  - natural language processing\n",
        "\n",
        "Natural Language Processing (NLP)\n",
        "- ability of computers to understand the meaning of human language\n",
        "\n",
        "WORLD EMBEDDINGS\n",
        "- create features that group similar words\n",
        "- features have a mathematical meaning"
      ],
      "metadata": {
        "id": "4zS5O2gFcxxG"
      }
    }
  ]
}